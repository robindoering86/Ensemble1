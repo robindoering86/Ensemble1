{
 "cells": [
  {
   "cell_type": "markdown",
   "metadata": {},
   "source": [
    "### Please copy each line into a different cell in Jupyter notebook and a) comment on what every line is doing to demonstrate your understanding b) run/print as many lines of code in each cell as possible to see the output. This should help your understanding of Random Forest implementation. Lets keep moving forward!\n"
   ]
  },
  {
   "cell_type": "markdown",
   "metadata": {},
   "source": [
    "Fortunately, with libraries such as Scikit-Learn, it’s now easy to implement hundreds of machine learning algorithms in Python. \n",
    "\n",
    "\n",
    "\n",
    "It’s so easy that we often don’t need any underlying knowledge of how the model works in order to use it. \n",
    "\n",
    "\n",
    "\n",
    "\n",
    "While knowing all the details is not necessary, it’s still helpful to have an idea of how a machine learning model works under the hood. \n",
    "\n",
    "\n",
    "\n",
    "\n",
    "This lets us diagnose the model when it’s underperforming or explain how it makes decisions, which is crucial if we want to convince others to trust our models.\n",
    "\n",
    "\n",
    "\n",
    "In this Codealong notebook, we’ll look at how to build and use the Random Forest in Python. In addition to seeing the code, we’ll try to get an understanding of how this model works.\n",
    "\n",
    "\n",
    "\n"
   ]
  },
  {
   "cell_type": "markdown",
   "metadata": {},
   "source": [
    "# Imports"
   ]
  },
  {
   "cell_type": "code",
   "execution_count": 1,
   "metadata": {},
   "outputs": [
    {
     "name": "stderr",
     "output_type": "stream",
     "text": [
      "//anaconda3/envs/nf/lib/python3.6/importlib/_bootstrap.py:219: RuntimeWarning: numpy.ufunc size changed, may indicate binary incompatibility. Expected 216, got 192\n",
      "  return f(*args, **kwds)\n",
      "//anaconda3/envs/nf/lib/python3.6/importlib/_bootstrap.py:219: RuntimeWarning: numpy.ufunc size changed, may indicate binary incompatibility. Expected 216, got 192\n",
      "  return f(*args, **kwds)\n"
     ]
    }
   ],
   "source": [
    "# Pandas and numpy\n",
    "import pandas as pd\n",
    "import numpy as np\n",
    "\n",
    "# scikt-learn\n",
    "from sklearn.model_selection import train_test_split\n",
    "from sklearn.ensemble import RandomForestClassifier"
   ]
  },
  {
   "cell_type": "markdown",
   "metadata": {},
   "source": [
    "# Load Data"
   ]
  },
  {
   "cell_type": "code",
   "execution_count": 4,
   "metadata": {},
   "outputs": [],
   "source": [
    "# Use Pandas' read_csv method\n",
    "df = pd.read_csv('clean_data.csv')"
   ]
  },
  {
   "cell_type": "code",
   "execution_count": 5,
   "metadata": {},
   "outputs": [],
   "source": [
    "# Create a pristine copy of the data\n",
    "df_copy = df.copy()"
   ]
  },
  {
   "cell_type": "code",
   "execution_count": 6,
   "metadata": {},
   "outputs": [
    {
     "data": {
      "text/html": [
       "<div>\n",
       "<style scoped>\n",
       "    .dataframe tbody tr th:only-of-type {\n",
       "        vertical-align: middle;\n",
       "    }\n",
       "\n",
       "    .dataframe tbody tr th {\n",
       "        vertical-align: top;\n",
       "    }\n",
       "\n",
       "    .dataframe thead th {\n",
       "        text-align: right;\n",
       "    }\n",
       "</style>\n",
       "<table border=\"1\" class=\"dataframe\">\n",
       "  <thead>\n",
       "    <tr style=\"text-align: right;\">\n",
       "      <th></th>\n",
       "      <th>_STATE</th>\n",
       "      <th>FMONTH</th>\n",
       "      <th>DISPCODE</th>\n",
       "      <th>SEQNO</th>\n",
       "      <th>_PSU</th>\n",
       "      <th>CTELENUM</th>\n",
       "      <th>PVTRESD1</th>\n",
       "      <th>COLGHOUS</th>\n",
       "      <th>STATERES</th>\n",
       "      <th>CELLFON3</th>\n",
       "      <th>...</th>\n",
       "      <th>_PAREC1</th>\n",
       "      <th>_PASTAE1</th>\n",
       "      <th>_LMTACT1</th>\n",
       "      <th>_LMTWRK1</th>\n",
       "      <th>_LMTSCL1</th>\n",
       "      <th>_RFSEAT2</th>\n",
       "      <th>_RFSEAT3</th>\n",
       "      <th>_FLSHOT6</th>\n",
       "      <th>_PNEUMO2</th>\n",
       "      <th>_AIDTST3</th>\n",
       "    </tr>\n",
       "  </thead>\n",
       "  <tbody>\n",
       "    <tr>\n",
       "      <th>0</th>\n",
       "      <td>49.0</td>\n",
       "      <td>4.0</td>\n",
       "      <td>1100.0</td>\n",
       "      <td>2.015009e+09</td>\n",
       "      <td>2.015009e+09</td>\n",
       "      <td>NaN</td>\n",
       "      <td>NaN</td>\n",
       "      <td>NaN</td>\n",
       "      <td>NaN</td>\n",
       "      <td>NaN</td>\n",
       "      <td>...</td>\n",
       "      <td>4.0</td>\n",
       "      <td>2.0</td>\n",
       "      <td>3.0</td>\n",
       "      <td>3.0</td>\n",
       "      <td>4.0</td>\n",
       "      <td>1.0</td>\n",
       "      <td>1.0</td>\n",
       "      <td>NaN</td>\n",
       "      <td>NaN</td>\n",
       "      <td>2.0</td>\n",
       "    </tr>\n",
       "    <tr>\n",
       "      <th>1</th>\n",
       "      <td>9.0</td>\n",
       "      <td>9.0</td>\n",
       "      <td>1100.0</td>\n",
       "      <td>2.015005e+09</td>\n",
       "      <td>2.015005e+09</td>\n",
       "      <td>1.0</td>\n",
       "      <td>1.0</td>\n",
       "      <td>NaN</td>\n",
       "      <td>1.0</td>\n",
       "      <td>1.0</td>\n",
       "      <td>...</td>\n",
       "      <td>2.0</td>\n",
       "      <td>2.0</td>\n",
       "      <td>3.0</td>\n",
       "      <td>3.0</td>\n",
       "      <td>4.0</td>\n",
       "      <td>1.0</td>\n",
       "      <td>1.0</td>\n",
       "      <td>NaN</td>\n",
       "      <td>NaN</td>\n",
       "      <td>2.0</td>\n",
       "    </tr>\n",
       "    <tr>\n",
       "      <th>2</th>\n",
       "      <td>34.0</td>\n",
       "      <td>10.0</td>\n",
       "      <td>1100.0</td>\n",
       "      <td>2.015011e+09</td>\n",
       "      <td>2.015011e+09</td>\n",
       "      <td>NaN</td>\n",
       "      <td>NaN</td>\n",
       "      <td>NaN</td>\n",
       "      <td>NaN</td>\n",
       "      <td>NaN</td>\n",
       "      <td>...</td>\n",
       "      <td>4.0</td>\n",
       "      <td>2.0</td>\n",
       "      <td>3.0</td>\n",
       "      <td>3.0</td>\n",
       "      <td>4.0</td>\n",
       "      <td>1.0</td>\n",
       "      <td>1.0</td>\n",
       "      <td>NaN</td>\n",
       "      <td>NaN</td>\n",
       "      <td>2.0</td>\n",
       "    </tr>\n",
       "    <tr>\n",
       "      <th>3</th>\n",
       "      <td>41.0</td>\n",
       "      <td>4.0</td>\n",
       "      <td>1100.0</td>\n",
       "      <td>2.015002e+09</td>\n",
       "      <td>2.015002e+09</td>\n",
       "      <td>1.0</td>\n",
       "      <td>1.0</td>\n",
       "      <td>NaN</td>\n",
       "      <td>1.0</td>\n",
       "      <td>1.0</td>\n",
       "      <td>...</td>\n",
       "      <td>2.0</td>\n",
       "      <td>2.0</td>\n",
       "      <td>2.0</td>\n",
       "      <td>2.0</td>\n",
       "      <td>3.0</td>\n",
       "      <td>1.0</td>\n",
       "      <td>1.0</td>\n",
       "      <td>2.0</td>\n",
       "      <td>1.0</td>\n",
       "      <td>2.0</td>\n",
       "    </tr>\n",
       "    <tr>\n",
       "      <th>4</th>\n",
       "      <td>54.0</td>\n",
       "      <td>5.0</td>\n",
       "      <td>1100.0</td>\n",
       "      <td>2.015004e+09</td>\n",
       "      <td>2.015004e+09</td>\n",
       "      <td>NaN</td>\n",
       "      <td>NaN</td>\n",
       "      <td>NaN</td>\n",
       "      <td>NaN</td>\n",
       "      <td>NaN</td>\n",
       "      <td>...</td>\n",
       "      <td>1.0</td>\n",
       "      <td>1.0</td>\n",
       "      <td>3.0</td>\n",
       "      <td>3.0</td>\n",
       "      <td>4.0</td>\n",
       "      <td>1.0</td>\n",
       "      <td>1.0</td>\n",
       "      <td>NaN</td>\n",
       "      <td>NaN</td>\n",
       "      <td>2.0</td>\n",
       "    </tr>\n",
       "  </tbody>\n",
       "</table>\n",
       "<p>5 rows × 314 columns</p>\n",
       "</div>"
      ],
      "text/plain": [
       "   _STATE  FMONTH  DISPCODE         SEQNO          _PSU  CTELENUM  PVTRESD1  \\\n",
       "0    49.0     4.0    1100.0  2.015009e+09  2.015009e+09       NaN       NaN   \n",
       "1     9.0     9.0    1100.0  2.015005e+09  2.015005e+09       1.0       1.0   \n",
       "2    34.0    10.0    1100.0  2.015011e+09  2.015011e+09       NaN       NaN   \n",
       "3    41.0     4.0    1100.0  2.015002e+09  2.015002e+09       1.0       1.0   \n",
       "4    54.0     5.0    1100.0  2.015004e+09  2.015004e+09       NaN       NaN   \n",
       "\n",
       "   COLGHOUS  STATERES  CELLFON3    ...     _PAREC1  _PASTAE1  _LMTACT1  \\\n",
       "0       NaN       NaN       NaN    ...         4.0       2.0       3.0   \n",
       "1       NaN       1.0       1.0    ...         2.0       2.0       3.0   \n",
       "2       NaN       NaN       NaN    ...         4.0       2.0       3.0   \n",
       "3       NaN       1.0       1.0    ...         2.0       2.0       2.0   \n",
       "4       NaN       NaN       NaN    ...         1.0       1.0       3.0   \n",
       "\n",
       "   _LMTWRK1  _LMTSCL1  _RFSEAT2  _RFSEAT3  _FLSHOT6  _PNEUMO2  _AIDTST3  \n",
       "0       3.0       4.0       1.0       1.0       NaN       NaN       2.0  \n",
       "1       3.0       4.0       1.0       1.0       NaN       NaN       2.0  \n",
       "2       3.0       4.0       1.0       1.0       NaN       NaN       2.0  \n",
       "3       2.0       3.0       1.0       1.0       2.0       1.0       2.0  \n",
       "4       3.0       4.0       1.0       1.0       NaN       NaN       2.0  \n",
       "\n",
       "[5 rows x 314 columns]"
      ]
     },
     "execution_count": 6,
     "metadata": {},
     "output_type": "execute_result"
    }
   ],
   "source": [
    "df.head()"
   ]
  },
  {
   "cell_type": "code",
   "execution_count": 8,
   "metadata": {},
   "outputs": [
    {
     "data": {
      "text/html": [
       "<div>\n",
       "<style scoped>\n",
       "    .dataframe tbody tr th:only-of-type {\n",
       "        vertical-align: middle;\n",
       "    }\n",
       "\n",
       "    .dataframe tbody tr th {\n",
       "        vertical-align: top;\n",
       "    }\n",
       "\n",
       "    .dataframe thead th {\n",
       "        text-align: right;\n",
       "    }\n",
       "</style>\n",
       "<table border=\"1\" class=\"dataframe\">\n",
       "  <thead>\n",
       "    <tr style=\"text-align: right;\">\n",
       "      <th></th>\n",
       "      <th>_STATE</th>\n",
       "      <th>FMONTH</th>\n",
       "      <th>DISPCODE</th>\n",
       "      <th>SEQNO</th>\n",
       "      <th>_PSU</th>\n",
       "      <th>CTELENUM</th>\n",
       "      <th>PVTRESD1</th>\n",
       "      <th>COLGHOUS</th>\n",
       "      <th>STATERES</th>\n",
       "      <th>CELLFON3</th>\n",
       "      <th>...</th>\n",
       "      <th>_PAREC1</th>\n",
       "      <th>_PASTAE1</th>\n",
       "      <th>_LMTACT1</th>\n",
       "      <th>_LMTWRK1</th>\n",
       "      <th>_LMTSCL1</th>\n",
       "      <th>_RFSEAT2</th>\n",
       "      <th>_RFSEAT3</th>\n",
       "      <th>_FLSHOT6</th>\n",
       "      <th>_PNEUMO2</th>\n",
       "      <th>_AIDTST3</th>\n",
       "    </tr>\n",
       "  </thead>\n",
       "  <tbody>\n",
       "    <tr>\n",
       "      <th>99714</th>\n",
       "      <td>30.0</td>\n",
       "      <td>1.0</td>\n",
       "      <td>1100.0</td>\n",
       "      <td>2.015001e+09</td>\n",
       "      <td>2.015001e+09</td>\n",
       "      <td>1.0</td>\n",
       "      <td>1.0</td>\n",
       "      <td>NaN</td>\n",
       "      <td>1.0</td>\n",
       "      <td>2.0</td>\n",
       "      <td>...</td>\n",
       "      <td>2.0</td>\n",
       "      <td>2.0</td>\n",
       "      <td>3.0</td>\n",
       "      <td>3.0</td>\n",
       "      <td>4.0</td>\n",
       "      <td>1.0</td>\n",
       "      <td>2.0</td>\n",
       "      <td>NaN</td>\n",
       "      <td>NaN</td>\n",
       "      <td>9.0</td>\n",
       "    </tr>\n",
       "    <tr>\n",
       "      <th>99715</th>\n",
       "      <td>27.0</td>\n",
       "      <td>3.0</td>\n",
       "      <td>1100.0</td>\n",
       "      <td>2.015001e+09</td>\n",
       "      <td>2.015001e+09</td>\n",
       "      <td>1.0</td>\n",
       "      <td>1.0</td>\n",
       "      <td>NaN</td>\n",
       "      <td>1.0</td>\n",
       "      <td>1.0</td>\n",
       "      <td>...</td>\n",
       "      <td>2.0</td>\n",
       "      <td>2.0</td>\n",
       "      <td>3.0</td>\n",
       "      <td>3.0</td>\n",
       "      <td>4.0</td>\n",
       "      <td>1.0</td>\n",
       "      <td>1.0</td>\n",
       "      <td>NaN</td>\n",
       "      <td>NaN</td>\n",
       "      <td>2.0</td>\n",
       "    </tr>\n",
       "    <tr>\n",
       "      <th>99716</th>\n",
       "      <td>8.0</td>\n",
       "      <td>7.0</td>\n",
       "      <td>1100.0</td>\n",
       "      <td>2.015002e+09</td>\n",
       "      <td>2.015002e+09</td>\n",
       "      <td>1.0</td>\n",
       "      <td>1.0</td>\n",
       "      <td>NaN</td>\n",
       "      <td>1.0</td>\n",
       "      <td>2.0</td>\n",
       "      <td>...</td>\n",
       "      <td>2.0</td>\n",
       "      <td>2.0</td>\n",
       "      <td>2.0</td>\n",
       "      <td>1.0</td>\n",
       "      <td>3.0</td>\n",
       "      <td>1.0</td>\n",
       "      <td>1.0</td>\n",
       "      <td>NaN</td>\n",
       "      <td>NaN</td>\n",
       "      <td>2.0</td>\n",
       "    </tr>\n",
       "    <tr>\n",
       "      <th>99717</th>\n",
       "      <td>21.0</td>\n",
       "      <td>7.0</td>\n",
       "      <td>1100.0</td>\n",
       "      <td>2.015003e+09</td>\n",
       "      <td>2.015003e+09</td>\n",
       "      <td>1.0</td>\n",
       "      <td>1.0</td>\n",
       "      <td>NaN</td>\n",
       "      <td>1.0</td>\n",
       "      <td>1.0</td>\n",
       "      <td>...</td>\n",
       "      <td>4.0</td>\n",
       "      <td>2.0</td>\n",
       "      <td>1.0</td>\n",
       "      <td>1.0</td>\n",
       "      <td>1.0</td>\n",
       "      <td>1.0</td>\n",
       "      <td>1.0</td>\n",
       "      <td>NaN</td>\n",
       "      <td>NaN</td>\n",
       "      <td>2.0</td>\n",
       "    </tr>\n",
       "    <tr>\n",
       "      <th>99718</th>\n",
       "      <td>50.0</td>\n",
       "      <td>5.0</td>\n",
       "      <td>1100.0</td>\n",
       "      <td>2.015001e+09</td>\n",
       "      <td>2.015001e+09</td>\n",
       "      <td>1.0</td>\n",
       "      <td>1.0</td>\n",
       "      <td>NaN</td>\n",
       "      <td>1.0</td>\n",
       "      <td>1.0</td>\n",
       "      <td>...</td>\n",
       "      <td>1.0</td>\n",
       "      <td>1.0</td>\n",
       "      <td>3.0</td>\n",
       "      <td>3.0</td>\n",
       "      <td>4.0</td>\n",
       "      <td>1.0</td>\n",
       "      <td>1.0</td>\n",
       "      <td>1.0</td>\n",
       "      <td>1.0</td>\n",
       "      <td>2.0</td>\n",
       "    </tr>\n",
       "  </tbody>\n",
       "</table>\n",
       "<p>5 rows × 314 columns</p>\n",
       "</div>"
      ],
      "text/plain": [
       "       _STATE  FMONTH  DISPCODE         SEQNO          _PSU  CTELENUM  \\\n",
       "99714    30.0     1.0    1100.0  2.015001e+09  2.015001e+09       1.0   \n",
       "99715    27.0     3.0    1100.0  2.015001e+09  2.015001e+09       1.0   \n",
       "99716     8.0     7.0    1100.0  2.015002e+09  2.015002e+09       1.0   \n",
       "99717    21.0     7.0    1100.0  2.015003e+09  2.015003e+09       1.0   \n",
       "99718    50.0     5.0    1100.0  2.015001e+09  2.015001e+09       1.0   \n",
       "\n",
       "       PVTRESD1  COLGHOUS  STATERES  CELLFON3    ...     _PAREC1  _PASTAE1  \\\n",
       "99714       1.0       NaN       1.0       2.0    ...         2.0       2.0   \n",
       "99715       1.0       NaN       1.0       1.0    ...         2.0       2.0   \n",
       "99716       1.0       NaN       1.0       2.0    ...         2.0       2.0   \n",
       "99717       1.0       NaN       1.0       1.0    ...         4.0       2.0   \n",
       "99718       1.0       NaN       1.0       1.0    ...         1.0       1.0   \n",
       "\n",
       "       _LMTACT1  _LMTWRK1  _LMTSCL1  _RFSEAT2  _RFSEAT3  _FLSHOT6  _PNEUMO2  \\\n",
       "99714       3.0       3.0       4.0       1.0       2.0       NaN       NaN   \n",
       "99715       3.0       3.0       4.0       1.0       1.0       NaN       NaN   \n",
       "99716       2.0       1.0       3.0       1.0       1.0       NaN       NaN   \n",
       "99717       1.0       1.0       1.0       1.0       1.0       NaN       NaN   \n",
       "99718       3.0       3.0       4.0       1.0       1.0       1.0       1.0   \n",
       "\n",
       "       _AIDTST3  \n",
       "99714       9.0  \n",
       "99715       2.0  \n",
       "99716       2.0  \n",
       "99717       2.0  \n",
       "99718       2.0  \n",
       "\n",
       "[5 rows x 314 columns]"
      ]
     },
     "execution_count": 8,
     "metadata": {},
     "output_type": "execute_result"
    }
   ],
   "source": [
    "df.tail()"
   ]
  },
  {
   "cell_type": "code",
   "execution_count": 9,
   "metadata": {},
   "outputs": [
    {
     "data": {
      "text/plain": [
       "(99719, 314)"
      ]
     },
     "execution_count": 9,
     "metadata": {},
     "output_type": "execute_result"
    }
   ],
   "source": [
    "df.shape"
   ]
  },
  {
   "cell_type": "markdown",
   "metadata": {},
   "source": [
    "99719 records, 314 potential features to work with."
   ]
  },
  {
   "cell_type": "markdown",
   "metadata": {},
   "source": [
    "# Data Exploration"
   ]
  },
  {
   "cell_type": "code",
   "execution_count": null,
   "metadata": {},
   "outputs": [],
   "source": [
    "# Extract labels\n",
    "#labels = np.array(df.pop('label'))"
   ]
  },
  {
   "cell_type": "code",
   "execution_count": 10,
   "metadata": {},
   "outputs": [
    {
     "data": {
      "text/plain": [
       "_STATE          0\n",
       "FMONTH          0\n",
       "DISPCODE        0\n",
       "SEQNO           0\n",
       "_PSU            0\n",
       "CTELENUM    42298\n",
       "PVTRESD1    42298\n",
       "COLGHOUS    99711\n",
       "STATERES    42298\n",
       "CELLFON3    42298\n",
       "LADULT      99711\n",
       "NUMADULT    42304\n",
       "NUMMEN      42330\n",
       "NUMWOMEN    42330\n",
       "CTELNUM1    57421\n",
       "CELLFON2    57421\n",
       "CADULT      57422\n",
       "PVTRESD2    57421\n",
       "CCLGHOUS    99485\n",
       "CSTATE      57421\n",
       "LANDLINE    57587\n",
       "HHADULT     58541\n",
       "PERSDOC2        0\n",
       "MEDCOST         0\n",
       "CHECKUP1        0\n",
       "BPHIGH4         0\n",
       "BPMEDS      59490\n",
       "BLOODCHO        0\n",
       "CHOLCHK     13251\n",
       "TOLDHI2     13251\n",
       "            ...  \n",
       "PADUR1_     34629\n",
       "PADUR2_     56245\n",
       "PAFREQ1_    33841\n",
       "PAFREQ2_    55681\n",
       "_MINAC11    35028\n",
       "_MINAC21    35560\n",
       "STRFREQ_     9898\n",
       "PAMISS1_        0\n",
       "PAMIN11_    35706\n",
       "PAMIN21_    36239\n",
       "PA1MIN_     34333\n",
       "PAVIG11_    34616\n",
       "PAVIG21_    35670\n",
       "PA1VIGM_    34003\n",
       "_PACAT1         0\n",
       "_PAINDX1        0\n",
       "_PA150R2        0\n",
       "_PA300R2        0\n",
       "_PA30021        0\n",
       "_PASTRNG        0\n",
       "_PAREC1         0\n",
       "_PASTAE1        0\n",
       "_LMTACT1      656\n",
       "_LMTWRK1      656\n",
       "_LMTSCL1      656\n",
       "_RFSEAT2        0\n",
       "_RFSEAT3        0\n",
       "_FLSHOT6    64126\n",
       "_PNEUMO2    64126\n",
       "_AIDTST3     9822\n",
       "Length: 314, dtype: int64"
      ]
     },
     "execution_count": 10,
     "metadata": {},
     "output_type": "execute_result"
    }
   ],
   "source": [
    "# Look for missing values\n",
    "df.isna().sum()"
   ]
  },
  {
   "cell_type": "markdown",
   "metadata": {},
   "source": [
    "Many columns with missing values. Normally, this would require extensive data cleaning etc. However, as this is codealong, we will just impute the NaNs."
   ]
  },
  {
   "cell_type": "code",
   "execution_count": 13,
   "metadata": {},
   "outputs": [],
   "source": [
    "\n",
    "#####\n",
    "# In the RF tutorial notebook, the test NaNs in the test set are filled \n",
    "# with the mean of the train!\n",
    "#####\n",
    "\n",
    "\n",
    "\n",
    "# Imputing missing values with mean with inplace=True\n",
    "df.fillna(df.mean(), inplace=True)"
   ]
  },
  {
   "cell_type": "code",
   "execution_count": 14,
   "metadata": {},
   "outputs": [
    {
     "data": {
      "text/plain": [
       "_STATE      0\n",
       "FMONTH      0\n",
       "DISPCODE    0\n",
       "SEQNO       0\n",
       "_PSU        0\n",
       "CTELENUM    0\n",
       "PVTRESD1    0\n",
       "COLGHOUS    0\n",
       "STATERES    0\n",
       "CELLFON3    0\n",
       "LADULT      0\n",
       "NUMADULT    0\n",
       "NUMMEN      0\n",
       "NUMWOMEN    0\n",
       "CTELNUM1    0\n",
       "CELLFON2    0\n",
       "CADULT      0\n",
       "PVTRESD2    0\n",
       "CCLGHOUS    0\n",
       "CSTATE      0\n",
       "LANDLINE    0\n",
       "HHADULT     0\n",
       "PERSDOC2    0\n",
       "MEDCOST     0\n",
       "CHECKUP1    0\n",
       "BPHIGH4     0\n",
       "BPMEDS      0\n",
       "BLOODCHO    0\n",
       "CHOLCHK     0\n",
       "TOLDHI2     0\n",
       "           ..\n",
       "PADUR1_     0\n",
       "PADUR2_     0\n",
       "PAFREQ1_    0\n",
       "PAFREQ2_    0\n",
       "_MINAC11    0\n",
       "_MINAC21    0\n",
       "STRFREQ_    0\n",
       "PAMISS1_    0\n",
       "PAMIN11_    0\n",
       "PAMIN21_    0\n",
       "PA1MIN_     0\n",
       "PAVIG11_    0\n",
       "PAVIG21_    0\n",
       "PA1VIGM_    0\n",
       "_PACAT1     0\n",
       "_PAINDX1    0\n",
       "_PA150R2    0\n",
       "_PA300R2    0\n",
       "_PA30021    0\n",
       "_PASTRNG    0\n",
       "_PAREC1     0\n",
       "_PASTAE1    0\n",
       "_LMTACT1    0\n",
       "_LMTWRK1    0\n",
       "_LMTSCL1    0\n",
       "_RFSEAT2    0\n",
       "_RFSEAT3    0\n",
       "_FLSHOT6    0\n",
       "_PNEUMO2    0\n",
       "_AIDTST3    0\n",
       "Length: 314, dtype: int64"
      ]
     },
     "execution_count": 14,
     "metadata": {},
     "output_type": "execute_result"
    }
   ],
   "source": [
    "# Check again\n",
    "df.isna().sum()"
   ]
  },
  {
   "cell_type": "markdown",
   "metadata": {},
   "source": [
    "No more missing values!"
   ]
  },
  {
   "cell_type": "code",
   "execution_count": 15,
   "metadata": {},
   "outputs": [],
   "source": [
    "# Set a random seed\n",
    "r_seed = 50"
   ]
  },
  {
   "cell_type": "code",
   "execution_count": 17,
   "metadata": {},
   "outputs": [],
   "source": [
    "# Extract labels\n",
    "labels = np.array(df.pop('label'))"
   ]
  },
  {
   "cell_type": "code",
   "execution_count": 18,
   "metadata": {},
   "outputs": [
    {
     "data": {
      "text/plain": [
       "(99719, 313)"
      ]
     },
     "execution_count": 18,
     "metadata": {},
     "output_type": "execute_result"
    }
   ],
   "source": [
    "df.shape"
   ]
  },
  {
   "cell_type": "markdown",
   "metadata": {},
   "source": [
    "popped the label column, so down to 313 columns"
   ]
  },
  {
   "cell_type": "code",
   "execution_count": 25,
   "metadata": {},
   "outputs": [],
   "source": [
    "# Split into train and test data, test size 30%\n",
    "X_train, X_test, train_labels, test_labels = train_test_split(\n",
    "    df,\n",
    "    labels,\n",
    "    random_state=r_seed,\n",
    "    test_size=.3,\n",
    "    stratify=labels\n",
    "    )"
   ]
  },
  {
   "cell_type": "markdown",
   "metadata": {},
   "source": [
    "Open questions: what does stratify option do?"
   ]
  },
  {
   "cell_type": "code",
   "execution_count": 22,
   "metadata": {},
   "outputs": [],
   "source": [
    "# Create list of features\n",
    "features = list(df.columns)"
   ]
  },
  {
   "cell_type": "code",
   "execution_count": 23,
   "metadata": {},
   "outputs": [],
   "source": [
    "# Creating a RandomForestClassifier object\n",
    "model = RandomForestClassifier(\n",
    "    n_estimators=100, # How many different estimators to put into the forest\n",
    "    random_state=r_seed,\n",
    "    max_features='sqrt', #??\n",
    "    n_jobs=-1, # Basically says on how many CPU cores to run the algorithm\n",
    "    verbose=1\n",
    ")"
   ]
  },
  {
   "cell_type": "markdown",
   "metadata": {},
   "source": [
    "Check the meaning of the arguments!\n",
    " n_jobs: \n",
    " max_features:\n",
    " n_estimators:"
   ]
  },
  {
   "cell_type": "code",
   "execution_count": 26,
   "metadata": {},
   "outputs": [
    {
     "name": "stderr",
     "output_type": "stream",
     "text": [
      "[Parallel(n_jobs=-1)]: Using backend ThreadingBackend with 4 concurrent workers.\n",
      "[Parallel(n_jobs=-1)]: Done  42 tasks      | elapsed:    5.1s\n",
      "[Parallel(n_jobs=-1)]: Done 100 out of 100 | elapsed:   12.2s finished\n"
     ]
    },
    {
     "data": {
      "text/plain": [
       "RandomForestClassifier(bootstrap=True, class_weight=None, criterion='gini',\n",
       "                       max_depth=None, max_features='sqrt', max_leaf_nodes=None,\n",
       "                       min_impurity_decrease=0.0, min_impurity_split=None,\n",
       "                       min_samples_leaf=1, min_samples_split=2,\n",
       "                       min_weight_fraction_leaf=0.0, n_estimators=100,\n",
       "                       n_jobs=-1, oob_score=False, random_state=50, verbose=1,\n",
       "                       warm_start=False)"
      ]
     },
     "execution_count": 26,
     "metadata": {},
     "output_type": "execute_result"
    }
   ],
   "source": [
    "model.fit(X_train, train_labels)"
   ]
  },
  {
   "cell_type": "code",
   "execution_count": 29,
   "metadata": {},
   "outputs": [],
   "source": [
    "# Create empty lists to evaluate on \n",
    "n_nodes = []\n",
    "max_depths = []\n",
    "\n",
    "# Iterate over model estimators and return some stats\n",
    "for ind_tree in model.estimators_:\n",
    "    n_nodes.append(ind_tree.tree_.node_count)\n",
    "    max_depths.append(ind_tree.tree_.max_depth)"
   ]
  },
  {
   "cell_type": "code",
   "execution_count": 30,
   "metadata": {},
   "outputs": [
    {
     "name": "stdout",
     "output_type": "stream",
     "text": [
      "Average number of nodes 13396\n",
      "Average maximum depth 46\n"
     ]
    }
   ],
   "source": [
    "# Print stats\n",
    "print(f'Average number of nodes {int(np.mean(n_nodes))}')\n",
    "print(f'Average maximum depth {int(np.mean(max_depths))}')"
   ]
  },
  {
   "cell_type": "code",
   "execution_count": 34,
   "metadata": {},
   "outputs": [
    {
     "name": "stderr",
     "output_type": "stream",
     "text": [
      "[Parallel(n_jobs=4)]: Using backend ThreadingBackend with 4 concurrent workers.\n",
      "[Parallel(n_jobs=4)]: Done  42 tasks      | elapsed:    0.4s\n",
      "[Parallel(n_jobs=4)]: Done 100 out of 100 | elapsed:    0.9s finished\n",
      "[Parallel(n_jobs=4)]: Using backend ThreadingBackend with 4 concurrent workers.\n",
      "[Parallel(n_jobs=4)]: Done  42 tasks      | elapsed:    0.3s\n",
      "[Parallel(n_jobs=4)]: Done 100 out of 100 | elapsed:    0.8s finished\n"
     ]
    }
   ],
   "source": [
    "# Training predictions to demonstrate overfitting of the model\n",
    "train_rf_predictions = model.predict(X_train)\n",
    "train_rf_probs = model.predict_proba(X_train)[:, 1]"
   ]
  },
  {
   "cell_type": "code",
   "execution_count": 35,
   "metadata": {},
   "outputs": [
    {
     "name": "stderr",
     "output_type": "stream",
     "text": [
      "[Parallel(n_jobs=4)]: Using backend ThreadingBackend with 4 concurrent workers.\n",
      "[Parallel(n_jobs=4)]: Done  42 tasks      | elapsed:    0.2s\n",
      "[Parallel(n_jobs=4)]: Done 100 out of 100 | elapsed:    0.4s finished\n",
      "[Parallel(n_jobs=4)]: Using backend ThreadingBackend with 4 concurrent workers.\n",
      "[Parallel(n_jobs=4)]: Done  42 tasks      | elapsed:    0.2s\n",
      "[Parallel(n_jobs=4)]: Done 100 out of 100 | elapsed:    0.4s finished\n"
     ]
    }
   ],
   "source": [
    "# Testing predictions to determine performance\n",
    "rf_predictions = model.predict(X_test)\n",
    "rf_probs = model.predict_proba(X_test)[:, 1]"
   ]
  },
  {
   "cell_type": "code",
   "execution_count": 37,
   "metadata": {},
   "outputs": [],
   "source": [
    "# Import some scoring metric from sklearn\n",
    "from sklearn.metrics import precision_score, recall_score, roc_auc_score, roc_curve\n",
    "# Import matplotlib for plotting\n",
    "import matplotlib.pyplot as plt"
   ]
  },
  {
   "cell_type": "code",
   "execution_count": 38,
   "metadata": {},
   "outputs": [],
   "source": [
    "# Set plot format\n",
    "plt.style.use('fivethirtyeight')\n",
    "plt.rcParams['font.size'] = 18"
   ]
  },
  {
   "cell_type": "code",
   "execution_count": 57,
   "metadata": {},
   "outputs": [],
   "source": [
    "# Do some evaluation\n",
    "def evaluate_model(predictions, probs, train_predictions, train_probs):\n",
    "    '''\n",
    "    Compare machine learning model to baseline performance.\n",
    "    Computes statistics and shows ROC curve.\n",
    "    '''\n",
    "    # Create Empty dict\n",
    "    baseline = {}\n",
    "    \n",
    "    # Calculate recall score\n",
    "    baseline['recall'] = recall_score(\n",
    "        test_labels, \n",
    "        [1 for _ in range(len(test_labels))]\n",
    "    )\n",
    "\n",
    "    # Calculate precision score\n",
    "    baseline['precision'] = precision_score(\n",
    "        test_labels,\n",
    "        [1 for _ in range(len(test_labels))]\n",
    "    )\n",
    "    # Set baseline 'roc'\n",
    "    baseline['roc'] = 0.5\n",
    "\n",
    "    # Create Empty dict for results from model\n",
    "    results = {}\n",
    "    # Calculate recall score for model\n",
    "    results['recall'] = recall_score(\n",
    "        test_labels, \n",
    "        predictions,\n",
    "    )\n",
    "    # Calculate precision score\n",
    "    results['precision'] = precision_score(\n",
    "        test_labels,\n",
    "        predictions\n",
    "    )\n",
    "    # Calculate results 'roc'\n",
    "    results['roc'] = roc_auc_score(test_labels, probs)\n",
    "    \n",
    "    # Repeat for training results / scores\n",
    "    train_results = {}\n",
    "    train_results['recall'] = recall_score(train_labels, train_predictions)\n",
    "    train_results['precision'] = precision_score(train_labels, train_predictions)\n",
    "    train_results['roc'] = roc_auc_score(train_labels, train_probs)\n",
    "    \n",
    "    \n",
    "    for metric in ['recall', 'precision', 'roc']:\n",
    "        print('{} Baseline: {} Test: {} Train: {}'.format(\n",
    "            metric.upper(),\n",
    "            round(baseline[metric], 2),\n",
    "            round(results[metric], 2),\n",
    "            round(train_results[metric], 2))\n",
    "             )\n",
    "    \n",
    "    # Calculate false positive rates and true positive rates for performance baseline and model\n",
    "    base_fpr, base_tpr, _ = roc_curve(test_labels, [1 for i in range(len(test_labels))])\n",
    "    model_fpr, model_tpr, _ = roc_curve(test_labels, probs)\n",
    "\n",
    "    # Set figure properies\n",
    "    plt.figure(figsize = (8, 6))\n",
    "    plt.rcParams['font.size'] = 16\n",
    "    \n",
    "    # Plot baseline and model curves\n",
    "    plt.plot(base_fpr, base_tpr, c='b', label='Baseline')\n",
    "    plt.plot(model_fpr, model_tpr, c='r', label='Model')\n",
    "    plt.legend()\n",
    "    plt.xlabel('False Positive Rate')\n",
    "    plt.ylabel('True Positive Rate')\n",
    "    plt.title('ROC Curves')\n",
    "    plt.show()\n",
    "    "
   ]
  },
  {
   "cell_type": "code",
   "execution_count": 59,
   "metadata": {},
   "outputs": [
    {
     "name": "stdout",
     "output_type": "stream",
     "text": [
      "RECALL Baseline: 1.0 Test: 0.96 Train: 1.0\n",
      "PRECISION Baseline: 0.81 Test: 0.88 Train: 1.0\n",
      "ROC Baseline: 0.5 Test: 0.87 Train: 1.0\n"
     ]
    },
    {
     "data": {
      "image/png": "[encoded data removed]",
      "text/plain": [
       "<Figure size 576x432 with 1 Axes>"
      ]
     },
     "metadata": {},
     "output_type": "display_data"
    }
   ],
   "source": [
    "# Run the function and print the scores / graph\n",
    "evaluate_model(rf_predictions, rf_probs, train_rf_predictions, train_rf_probs)"
   ]
  },
  {
   "cell_type": "markdown",
   "metadata": {},
   "source": [
    "This doesn't look too bad."
   ]
  },
  {
   "cell_type": "code",
   "execution_count": 60,
   "metadata": {},
   "outputs": [],
   "source": [
    "# Import \n",
    "from sklearn.metrics import confusion_matrix\n",
    "import itertools"
   ]
  },
  {
   "cell_type": "code",
   "execution_count": 75,
   "metadata": {},
   "outputs": [],
   "source": [
    "def plot_confusion_matrix(\n",
    "    cm,\n",
    "    classes,\n",
    "    normalize=False,\n",
    "    title='Confusion Matrix',\n",
    "    cmap=plt.cm.Oranges\n",
    "    ):\n",
    "    '''\n",
    "    This function prints and plots the confusion matrix.\n",
    "    Normalization can be applied by setting `normalize=True`.\n",
    "    Source: http://scikit-learn.org/stable/auto_examples/model_selection/plot_confusion_matrix.html    \n",
    "    '''\n",
    "    if normalize:\n",
    "        cm = cm.astypes('float') / cm.sum(axis=1)[:, np.newaxis]\n",
    "        print('Normalized Confusion Matrix')\n",
    "    else:\n",
    "        print('Confusion Matrix without normalization')\n",
    "        \n",
    "    fmt = '.2f' if normalize else 'd'\n",
    "    thresh = cm.max() / 2.        \n",
    "\n",
    "    print(cm)\n",
    "    \n",
    "    # Plot the confusion matrix\n",
    "    plt.figure(figsize = (10, 10))\n",
    "    plt.imshow(cm, interpolation='nearest', cmap=cmap)\n",
    "    plt.title(title, size = 24)\n",
    "    plt.colorbar(aspect=4)\n",
    "    tick_marks = np.arange(len(classes))\n",
    "    plt.xticks(tick_marks, classes, rotation=45, size = 14)\n",
    "    plt.yticks(tick_marks, classes, size = 14)\n",
    "\n",
    "    fmt = '.2f' if normalize else 'd'\n",
    "    thresh = cm.max() / 2.\n",
    "\n",
    "    for i, j in itertools.product(range(cm.shape[0]), range(cm.shape[1])):\n",
    "        plt.text(\n",
    "            j,\n",
    "            i,\n",
    "            format(cm[j, i], fmt),\n",
    "            fontsize=20,\n",
    "            horizontalalignment='center',\n",
    "            color='white' if cm[i, j] > thresh else 'black'\n",
    "        )\n",
    "    plt.grid(None)\n",
    "    plt.tight_layout()\n",
    "    plt.ylabel('True label', size=18)\n",
    "    plt.xlabel('Predicted label', size=18)"
   ]
  },
  {
   "cell_type": "code",
   "execution_count": 76,
   "metadata": {},
   "outputs": [
    {
     "name": "stdout",
     "output_type": "stream",
     "text": [
      "Confusion Matrix without normalization\n",
      "[[ 2419  3155]\n",
      " [ 1036 23306]]\n"
     ]
    },
    {
     "data": {
      "image/png": "[encoded data removed]",
      "text/plain": [
       "<Figure size 720x720 with 2 Axes>"
      ]
     },
     "metadata": {},
     "output_type": "display_data"
    }
   ],
   "source": [
    "# Create confusion matrix\n",
    "cm = confusion_matrix(test_labels, rf_predictions)\n",
    "\n",
    "# Call function that plots the confusion matrix out\n",
    "plot_confusion_matrix(cm, classes = ['Poor Health', 'Good Health'],\n",
    "                      title = 'Health Confusion Matrix')"
   ]
  },
  {
   "cell_type": "code",
   "execution_count": null,
   "metadata": {},
   "outputs": [],
   "source": []
  },
  {
   "cell_type": "code",
   "execution_count": null,
   "metadata": {},
   "outputs": [],
   "source": []
  }
 ],
 "metadata": {
  "kernelspec": {
   "display_name": "Python 3",
   "language": "python",
   "name": "python3"
  },
  "language_info": {
   "codemirror_mode": {
    "name": "ipython",
    "version": 3
   },
   "file_extension": ".py",
   "mimetype": "text/x-python",
   "name": "python",
   "nbconvert_exporter": "python",
   "pygments_lexer": "ipython3",
   "version": "3.6.6"
  }
 },
 "nbformat": 4,
 "nbformat_minor": 4
}
